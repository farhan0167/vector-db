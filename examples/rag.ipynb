{
 "cells": [
  {
   "cell_type": "markdown",
   "metadata": {},
   "source": [
    "# Vector-db Tutorial\n",
    "\n",
    "In this tutorial, we will go over how we can use vector-db as a RAG pipeline. More specifically, we'll show you\n",
    "all the ways you can interact with the database to get a retrieval system running."
   ]
  },
  {
   "cell_type": "code",
   "execution_count": 1,
   "metadata": {},
   "outputs": [
    {
     "name": "stdout",
     "output_type": "stream",
     "text": [
      "\n",
      "\u001b[1m[\u001b[0m\u001b[34;49mnotice\u001b[0m\u001b[1;39;49m]\u001b[0m\u001b[39;49m A new release of pip is available: \u001b[0m\u001b[31;49m23.1.2\u001b[0m\u001b[39;49m -> \u001b[0m\u001b[32;49m25.0.1\u001b[0m\n",
      "\u001b[1m[\u001b[0m\u001b[34;49mnotice\u001b[0m\u001b[1;39;49m]\u001b[0m\u001b[39;49m To update, run: \u001b[0m\u001b[32;49mpip install --upgrade pip\u001b[0m\n"
     ]
    }
   ],
   "source": [
    "!pip install -q requests"
   ]
  },
  {
   "cell_type": "markdown",
   "metadata": {},
   "source": [
    "Set the base url where your database is running."
   ]
  },
  {
   "cell_type": "code",
   "execution_count": 53,
   "metadata": {},
   "outputs": [],
   "source": [
    "DB_BASE_URI = \"http://localhost:8000\""
   ]
  },
  {
   "cell_type": "markdown",
   "metadata": {},
   "source": [
    "Let's start by looking at all the existing libraries in the database."
   ]
  },
  {
   "cell_type": "code",
   "execution_count": 54,
   "metadata": {},
   "outputs": [],
   "source": [
    "import requests\n",
    "import datetime\n",
    "import json"
   ]
  },
  {
   "cell_type": "code",
   "execution_count": 55,
   "metadata": {},
   "outputs": [
    {
     "data": {
      "text/plain": [
       "[]"
      ]
     },
     "execution_count": 55,
     "metadata": {},
     "output_type": "execute_result"
    }
   ],
   "source": [
    "LIBRARY_RESOURCE = \"/library\"\n",
    "\n",
    "libraries = requests.get(f\"{DB_BASE_URI}/{LIBRARY_RESOURCE}\").json()\n",
    "libraries"
   ]
  },
  {
   "cell_type": "markdown",
   "metadata": {},
   "source": [
    "As expected, we do not have any libraries yet, so we'll create one. In order to look at a sample request, head over to `${DB_BASE_URI}/redoc#tag/Library/operation/add_library_library_post`"
   ]
  },
  {
   "cell_type": "code",
   "execution_count": 56,
   "metadata": {},
   "outputs": [
    {
     "name": "stdout",
     "output_type": "stream",
     "text": [
      "{'message': 'Library added successfully'}\n"
     ]
    }
   ],
   "source": [
    "library_name = \"test_library\"\n",
    "\n",
    "payload = {\n",
    "  \"name\": library_name,\n",
    "  \"metadata\": {\n",
    "    \"date_created\": datetime.datetime.now().strftime(\"%Y-%m-%d\"),\n",
    "    \"description\": \"This is a test library.\"\n",
    "  }\n",
    "}\n",
    "\n",
    "vector_index_type = \"flatl2\"\n",
    "\n",
    "response = requests.post(\n",
    "    f\"{DB_BASE_URI}/{LIBRARY_RESOURCE}\",\n",
    "    params={\"index_type\": vector_index_type},\n",
    "    json=payload\n",
    ")\n",
    "print(response.json())"
   ]
  },
  {
   "cell_type": "code",
   "execution_count": 57,
   "metadata": {},
   "outputs": [
    {
     "name": "stdout",
     "output_type": "stream",
     "text": [
      "{'name': 'test_library', 'metadata': {'date_created': '2025-03-30', 'description': 'This is a test library.'}}\n"
     ]
    }
   ],
   "source": [
    "# Let's now query the library:\n",
    "response = requests.get(f\"{DB_BASE_URI}/{LIBRARY_RESOURCE}/test_library\")\n",
    "print(response.json())"
   ]
  },
  {
   "cell_type": "markdown",
   "metadata": {},
   "source": [
    "Now that we have a library created, we can head over to create a document. A document stores the text of files we want to store. \n",
    "For example pdf contents, image contents, etc. For this project, we'll think of document as some text based document, split up into\n",
    "chunks. These chunks of texts are what will be returned to a user when the user queries the database."
   ]
  },
  {
   "cell_type": "code",
   "execution_count": 58,
   "metadata": {},
   "outputs": [
    {
     "data": {
      "text/plain": [
       "[]"
      ]
     },
     "execution_count": 58,
     "metadata": {},
     "output_type": "execute_result"
    }
   ],
   "source": [
    "DOCUMENT_RESOURCE = \"/document\"\n",
    "\n",
    "documents = requests.get(\n",
    "    f\"{DB_BASE_URI}/{DOCUMENT_RESOURCE}\",\n",
    "    params={\"library_name\": library_name}\n",
    ").json()\n",
    "documents\n",
    "# This should be empty as we still haven't added any documents"
   ]
  },
  {
   "cell_type": "markdown",
   "metadata": {},
   "source": [
    "Let's create a few empty documents where we can store our data. To get a sample request format, head over to: `${DB_BASE_URI}/redoc#tag/Document/operation/add_document_document_post`"
   ]
  },
  {
   "cell_type": "code",
   "execution_count": 59,
   "metadata": {},
   "outputs": [
    {
     "name": "stdout",
     "output_type": "stream",
     "text": [
      "{'id': '41a55601-f103-4e99-b9ba-8a81adec5b4f', 'name': 'document_1', 'num_of_chunks': 0, 'metadata': {'date_created': '2025-03-30', 'source': 'local'}}\n",
      "{'id': 'c5d37a71-5c09-4f2b-8df0-11428018ba31', 'name': 'document_2', 'num_of_chunks': 0, 'metadata': {'date_created': '2025-03-30', 'source': 'local'}}\n",
      "{'id': 'e14bab95-cc45-4ee9-9923-2df9829ca2ab', 'name': 'document_3', 'num_of_chunks': 0, 'metadata': {'date_created': '2025-03-30', 'source': 'local'}}\n"
     ]
    }
   ],
   "source": [
    "documents = [\n",
    "    {\n",
    "        \"name\": \"document_1\",\n",
    "        \"library_name\": library_name,\n",
    "        \"metadata\": {\n",
    "            \"date_created\": datetime.datetime.now().strftime(\"%Y-%m-%d\"),\n",
    "            \"source\": \"local\",\n",
    "        }\n",
    "    },\n",
    "    {\n",
    "        \"name\": \"document_2\",\n",
    "        \"library_name\": library_name,\n",
    "        \"metadata\": {\n",
    "            \"date_created\": datetime.datetime.now().strftime(\"%Y-%m-%d\"),\n",
    "            \"source\": \"local\",\n",
    "        }\n",
    "    },\n",
    "    {\n",
    "        \"name\": \"document_3\",\n",
    "        \"library_name\": library_name,\n",
    "        \"metadata\": {\n",
    "            \"date_created\": datetime.datetime.now().strftime(\"%Y-%m-%d\"),\n",
    "            \"source\": \"local\",\n",
    "        }\n",
    "    }\n",
    "]\n",
    "\n",
    "for document in documents:\n",
    "    try:\n",
    "        response = requests.post(\n",
    "            f\"{DB_BASE_URI}/{DOCUMENT_RESOURCE}\",\n",
    "            json=document\n",
    "        )\n",
    "        print(response.json())\n",
    "    except Exception as e:\n",
    "        print(e)"
   ]
  },
  {
   "cell_type": "markdown",
   "metadata": {},
   "source": [
    "Great! Now that we have our documents created, we're gonna add some content to those documents. We'll start by defining a custom TextSplitter, that is going to split a given document into chunks of size `chunk_size`."
   ]
  },
  {
   "cell_type": "code",
   "execution_count": 60,
   "metadata": {},
   "outputs": [],
   "source": [
    "from typing import List\n",
    "\n",
    "class TextSplitter:\n",
    "    def __init__(\n",
    "        self, \n",
    "        chunk_size: int\n",
    "    ):\n",
    "        self.chunk_size = chunk_size\n",
    "        \n",
    "    def split_text(self, text: str) -> List[str]:\n",
    "        avg_len = len(text) / self.chunk_size\n",
    "        chunks = []\n",
    "        start = 0\n",
    "        for i in range(self.chunk_size):\n",
    "            end = round((i + 1) * avg_len)\n",
    "            chunks.append(text[start:end])\n",
    "            start = end\n",
    "        return chunks"
   ]
  },
  {
   "cell_type": "code",
   "execution_count": 61,
   "metadata": {},
   "outputs": [],
   "source": [
    "# Copied over from https://en.wikipedia.org/wiki/New_York_City\n",
    "nyc = \"\"\"\n",
    "New York, often called New York City[b] or NYC, is the most populous city in the United States, located at the southern tip of New York State on one of the world's largest natural harbors. The city comprises five boroughs, each coextensive with a respective county. The city is the geographical and demographic center of both the Northeast megalopolis and the New York metropolitan area, the largest metropolitan area in the United States by both population and urban area. New York is a global center of finance[12] and commerce, culture, technology,[13] entertainment and media, academics and scientific output,[14] the arts and fashion, and, as home to the headquarters of the United Nations, international diplomacy.[15][16][17][18][19]\n",
    "\n",
    "With an estimated population in 2024 of 8,478,072[5][6] distributed over 300.46 square miles (778.2 km2),[4] the city is the most densely populated major city in the United States. New York City has more than double the population of Los Angeles, the nation's second-most populous city.[20] With more than 20.1 million people in its metropolitan statistical area[21] and 23.5 million in its combined statistical area as of 2020, New York City is one of the world's most populous megacities.[22] The city and its metropolitan area are the premier gateway for legal immigration to the United States. As many as 800 languages are spoken in New York City,[23] making it the most linguistically diverse city in the world. In 2021, the city was home to nearly 3.1 million residents born outside the United States,[20] the largest foreign-born population of any city in the world.[24]\n",
    "\n",
    "New York City traces its origins to Fort Amsterdam and a trading post founded on Manhattan Island by Dutch colonists around 1624. The settlement was named New Amsterdam in 1626 and was chartered as a city in 1653. The city came under English control in 1664 and was temporarily renamed New York after King Charles II granted the lands to his brother, the Duke of York,[25] before being permanently renamed New York in November 1674. Following independence from Great Britain, the city was the national capital of the United States from 1785 until 1790.[26] The modern city was formed by the 1898 consolidation of its five boroughs: Manhattan, Brooklyn, Queens, the Bronx, and Staten Island.\n",
    "\"\"\""
   ]
  },
  {
   "cell_type": "code",
   "execution_count": 62,
   "metadata": {},
   "outputs": [
    {
     "data": {
      "text/plain": [
       "[\"\\nNew York, often called New York City[b] or NYC, is the most populous city in the United States, located at the southern tip of New York State on one of the world's largest natural harbors. The city comprises five boroughs, each coextensive with a respective county. The city is the geographical and demographic center of both the Northeast megalopolis and the New York metropolitan area, the largest metropolitan area in the United States by both population and urban area. New York is a global center of finance[12] and commerce, culture, technology,[13] entertainment and media, academics and scientific output,[14] the arts and fashion, and, as home to the headquarters of the United Nations, international diplomacy.[15][16][17][18][19]\\n\\nWith an estimated population\",\n",
       " \" in 2024 of 8,478,072[5][6] distributed over 300.46 square miles (778.2 km2),[4] the city is the most densely populated major city in the United States. New York City has more than double the population of Los Angeles, the nation's second-most populous city.[20] With more than 20.1 million people in its metropolitan statistical area[21] and 23.5 million in its combined statistical area as of 2020, New York City is one of the world's most populous megacities.[22] The city and its metropolitan area are the premier gateway for legal immigration to the United States. As many as 800 languages are spoken in New York City,[23] making it the most linguistically diverse city in the world. In 2021, the city was home to nearly 3.1 million residents born outside the United\",\n",
       " ' States,[20] the largest foreign-born population of any city in the world.[24]\\n\\nNew York City traces its origins to Fort Amsterdam and a trading post founded on Manhattan Island by Dutch colonists around 1624. The settlement was named New Amsterdam in 1626 and was chartered as a city in 1653. The city came under English control in 1664 and was temporarily renamed New York after King Charles II granted the lands to his brother, the Duke of York,[25] before being permanently renamed New York in November 1674. Following independence from Great Britain, the city was the national capital of the United States from 1785 until 1790.[26] The modern city was formed by the 1898 consolidation of its five boroughs: Manhattan, Brooklyn, Queens, the Bronx, and Staten Island.\\n']"
      ]
     },
     "execution_count": 62,
     "metadata": {},
     "output_type": "execute_result"
    }
   ],
   "source": [
    "# Let's try out the text splitter. We'll split the above text into 3 chunks\n",
    "splitter = TextSplitter(chunk_size=3)\n",
    "chunks = splitter.split_text(nyc)\n",
    "chunks"
   ]
  },
  {
   "cell_type": "markdown",
   "metadata": {},
   "source": [
    "Let's put this together in document_1. In order to add chunks to a document and inspect a sample request, head over to `${DB_BASE_URI}/redoc#tag/Chunk/operation/add_chunk_chunk_post`.\n",
    "The payload should look as follows:\n",
    "\n",
    "```json\n",
    "{\n",
    "  \"library_name\": \"string\",\n",
    "  \"chunks\": [\n",
    "    {\n",
    "      \"text\": \"string\",\n",
    "      \"metadata\": {\n",
    "        \"date_created\": \"2025-03-30 10:20:46\",\n",
    "        \"doc_id\": \"string\",\n",
    "        \"page_number\": 0,\n",
    "        \"summary\": \"string\"\n",
    "      }\n",
    "    }\n",
    "  ]\n",
    "}\n",
    "```"
   ]
  },
  {
   "cell_type": "code",
   "execution_count": 63,
   "metadata": {},
   "outputs": [
    {
     "data": {
      "text/plain": [
       "[{'id': '41a55601-f103-4e99-b9ba-8a81adec5b4f',\n",
       "  'name': 'document_1',\n",
       "  'num_of_chunks': 0,\n",
       "  'metadata': {'date_created': '2025-03-30', 'source': 'local'}},\n",
       " {'id': 'c5d37a71-5c09-4f2b-8df0-11428018ba31',\n",
       "  'name': 'document_2',\n",
       "  'num_of_chunks': 0,\n",
       "  'metadata': {'date_created': '2025-03-30', 'source': 'local'}},\n",
       " {'id': 'e14bab95-cc45-4ee9-9923-2df9829ca2ab',\n",
       "  'name': 'document_3',\n",
       "  'num_of_chunks': 0,\n",
       "  'metadata': {'date_created': '2025-03-30', 'source': 'local'}}]"
      ]
     },
     "execution_count": 63,
     "metadata": {},
     "output_type": "execute_result"
    }
   ],
   "source": [
    "# Let's query the documents again just we are aware of their id's\n",
    "\n",
    "documents = requests.get(\n",
    "    f\"{DB_BASE_URI}/document\",\n",
    "    params={\"library_name\": library_name}\n",
    ").json()\n",
    "documents"
   ]
  },
  {
   "cell_type": "code",
   "execution_count": 64,
   "metadata": {},
   "outputs": [
    {
     "name": "stdout",
     "output_type": "stream",
     "text": [
      "{\n",
      "    \"library_name\": \"test_library\",\n",
      "    \"chunks\": [\n",
      "        {\n",
      "            \"text\": \"\\nNew York, often called New York City[b] or NYC, is the most populous city in the United States, located at the southern tip of New York State on one of the world's largest natural harbors. The city comprises five boroughs, each coextensive with a respective county. The city is the geographical and demographic center of both the Northeast megalopolis and the New York metropolitan area, the largest metropolitan area in the United States by both population and urban area. New York is a global center of finance[12] and commerce, culture, technology,[13] entertainment and media, academics and scientific output,[14] the arts and fashion, and, as home to the headquarters of the United Nations, international diplomacy.[15][16][17][18][19]\\n\\nWith an estimated population\",\n",
      "            \"metadata\": {\n",
      "                \"date_created\": \"2025-03-30\",\n",
      "                \"doc_id\": \"41a55601-f103-4e99-b9ba-8a81adec5b4f\",\n",
      "                \"page_number\": 0,\n",
      "                \"summary\": \"\"\n",
      "            }\n",
      "        },\n",
      "        {\n",
      "            \"text\": \" in 2024 of 8,478,072[5][6] distributed over 300.46 square miles (778.2 km2),[4] the city is the most densely populated major city in the United States. New York City has more than double the population of Los Angeles, the nation's second-most populous city.[20] With more than 20.1 million people in its metropolitan statistical area[21] and 23.5 million in its combined statistical area as of 2020, New York City is one of the world's most populous megacities.[22] The city and its metropolitan area are the premier gateway for legal immigration to the United States. As many as 800 languages are spoken in New York City,[23] making it the most linguistically diverse city in the world. In 2021, the city was home to nearly 3.1 million residents born outside the United\",\n",
      "            \"metadata\": {\n",
      "                \"date_created\": \"2025-03-30\",\n",
      "                \"doc_id\": \"41a55601-f103-4e99-b9ba-8a81adec5b4f\",\n",
      "                \"page_number\": 1,\n",
      "                \"summary\": \"\"\n",
      "            }\n",
      "        },\n",
      "        {\n",
      "            \"text\": \" States,[20] the largest foreign-born population of any city in the world.[24]\\n\\nNew York City traces its origins to Fort Amsterdam and a trading post founded on Manhattan Island by Dutch colonists around 1624. The settlement was named New Amsterdam in 1626 and was chartered as a city in 1653. The city came under English control in 1664 and was temporarily renamed New York after King Charles II granted the lands to his brother, the Duke of York,[25] before being permanently renamed New York in November 1674. Following independence from Great Britain, the city was the national capital of the United States from 1785 until 1790.[26] The modern city was formed by the 1898 consolidation of its five boroughs: Manhattan, Brooklyn, Queens, the Bronx, and Staten Island.\\n\",\n",
      "            \"metadata\": {\n",
      "                \"date_created\": \"2025-03-30\",\n",
      "                \"doc_id\": \"41a55601-f103-4e99-b9ba-8a81adec5b4f\",\n",
      "                \"page_number\": 2,\n",
      "                \"summary\": \"\"\n",
      "            }\n",
      "        }\n",
      "    ]\n",
      "}\n"
     ]
    }
   ],
   "source": [
    "# We'll add these chunks to the following document with id: 0d825bb7-8823-4956-890e-3e90f853f6ad\n",
    "\n",
    "payload = {\n",
    "  \"library_name\": library_name,\n",
    "  \"chunks\": []\n",
    "}\n",
    "for i, chunk in enumerate(chunks):\n",
    "    chunk_payload = {\n",
    "        \"text\": chunk,\n",
    "        \"metadata\": {\n",
    "            \"date_created\": datetime.datetime.now().strftime(\"%Y-%m-%d\"),\n",
    "            \"doc_id\": documents[0][\"id\"],\n",
    "            \"page_number\": i,\n",
    "            \"summary\": \"\",\n",
    "        }\n",
    "    }\n",
    "    payload[\"chunks\"].append(chunk_payload)\n",
    "\n",
    "print(json.dumps(payload, indent=4))"
   ]
  },
  {
   "cell_type": "code",
   "execution_count": 65,
   "metadata": {},
   "outputs": [
    {
     "name": "stdout",
     "output_type": "stream",
     "text": [
      "{'message': 'Chunk added to library'}\n"
     ]
    }
   ],
   "source": [
    "# Add chunks:\n",
    "\n",
    "CHUNK_RESOURCE = \"/chunk\"\n",
    "\n",
    "response = requests.post(\n",
    "    f\"{DB_BASE_URI}/{CHUNK_RESOURCE}\",\n",
    "    json=payload\n",
    ")\n",
    "print(response.json())"
   ]
  },
  {
   "cell_type": "code",
   "execution_count": 66,
   "metadata": {},
   "outputs": [
    {
     "data": {
      "text/plain": [
       "[{'id': '16e5a693-a51c-4597-844a-ebbd7ced7c9c',\n",
       "  'text': \"\\nNew York, often called New York City[b] or NYC, is the most populous city in the United States, located at the southern tip of New York State on one of the world's largest natural harbors. The city comprises five boroughs, each coextensive with a respective county. The city is the geographical and demographic center of both the Northeast megalopolis and the New York metropolitan area, the largest metropolitan area in the United States by both population and urban area. New York is a global center of finance[12] and commerce, culture, technology,[13] entertainment and media, academics and scientific output,[14] the arts and fashion, and, as home to the headquarters of the United Nations, international diplomacy.[15][16][17][18][19]\\n\\nWith an estimated population\",\n",
       "  'embedding': [0.023666382,\n",
       "   0.026565552,\n",
       "   0.022583008,\n",
       "   -0.004108429,\n",
       "   -0.013206482],\n",
       "  'metadata': {'date_created': '2025-03-30',\n",
       "   'doc_id': '41a55601-f103-4e99-b9ba-8a81adec5b4f',\n",
       "   'page_number': 0,\n",
       "   'summary': ''}},\n",
       " {'id': '6783a10a-109a-453f-a392-a794e5c5442a',\n",
       "  'text': \" in 2024 of 8,478,072[5][6] distributed over 300.46 square miles (778.2 km2),[4] the city is the most densely populated major city in the United States. New York City has more than double the population of Los Angeles, the nation's second-most populous city.[20] With more than 20.1 million people in its metropolitan statistical area[21] and 23.5 million in its combined statistical area as of 2020, New York City is one of the world's most populous megacities.[22] The city and its metropolitan area are the premier gateway for legal immigration to the United States. As many as 800 languages are spoken in New York City,[23] making it the most linguistically diverse city in the world. In 2021, the city was home to nearly 3.1 million residents born outside the United\",\n",
       "  'embedding': [0.01612854,\n",
       "   0.009674072,\n",
       "   0.0009493828,\n",
       "   -0.027496338,\n",
       "   -0.010971069],\n",
       "  'metadata': {'date_created': '2025-03-30',\n",
       "   'doc_id': '41a55601-f103-4e99-b9ba-8a81adec5b4f',\n",
       "   'page_number': 1,\n",
       "   'summary': ''}},\n",
       " {'id': 'ed527fb0-72ed-4541-820b-661f352994cf',\n",
       "  'text': ' States,[20] the largest foreign-born population of any city in the world.[24]\\n\\nNew York City traces its origins to Fort Amsterdam and a trading post founded on Manhattan Island by Dutch colonists around 1624. The settlement was named New Amsterdam in 1626 and was chartered as a city in 1653. The city came under English control in 1664 and was temporarily renamed New York after King Charles II granted the lands to his brother, the Duke of York,[25] before being permanently renamed New York in November 1674. Following independence from Great Britain, the city was the national capital of the United States from 1785 until 1790.[26] The modern city was formed by the 1898 consolidation of its five boroughs: Manhattan, Brooklyn, Queens, the Bronx, and Staten Island.\\n',\n",
       "  'embedding': [0.004146576,\n",
       "   0.0038528442,\n",
       "   -0.00064849854,\n",
       "   -0.023727417,\n",
       "   -0.012252808],\n",
       "  'metadata': {'date_created': '2025-03-30',\n",
       "   'doc_id': '41a55601-f103-4e99-b9ba-8a81adec5b4f',\n",
       "   'page_number': 2,\n",
       "   'summary': ''}}]"
      ]
     },
     "execution_count": 66,
     "metadata": {},
     "output_type": "execute_result"
    }
   ],
   "source": [
    "# Let's check on those chunks\n",
    "\n",
    "response = requests.get(\n",
    "    f\"{DB_BASE_URI}/{CHUNK_RESOURCE}\",\n",
    "    params={\"library_name\": library_name}\n",
    ")\n",
    "response.json()"
   ]
  },
  {
   "cell_type": "markdown",
   "metadata": {},
   "source": [
    "Now that we added chunks to one document, let's do it for the 2 others."
   ]
  },
  {
   "cell_type": "code",
   "execution_count": 67,
   "metadata": {},
   "outputs": [],
   "source": [
    "times_square = \"\"\"\n",
    "Times Square is a major commercial intersection, tourist destination, entertainment hub, and neighborhood in the Midtown Manhattan section of New York City. It is formed by the junction of Broadway, Seventh Avenue, and 42nd Street. Together with adjacent Duffy Square, Times Square is a bowtie-shaped plaza five blocks long between 42nd and 47th Streets.[2]\n",
    "\n",
    "Times Square is brightly lit by numerous digital billboards and advertisements as well as businesses offering 24/7 service. One of the world's busiest pedestrian areas,[3] it is also the hub of the Broadway Theater District[4] and a major center of the world's entertainment industry.[5] Times Square is one of the world's most visited tourist attractions, drawing an estimated 50 million visitors annually.[6] Approximately 330,000 people pass through Times Square daily,[7] many of them tourists,[8] while over 460,000 pedestrians walk through Times Square on its busiest days.[2] The Times Square–42nd Street and 42nd Street–Port Authority Bus Terminal stations have consistently ranked as the busiest in the New York City Subway system, transporting more than 200,000 passengers daily.[9]\n",
    "\n",
    "Formerly known as Longacre Square, Times Square was renamed in 1904 after The New York Times moved its headquarters to the then newly erected Times Building, now One Times Square.[10] It is the site of the annual New Year's Eve ball drop, which began on December 31, 1907, and continues to attract over a million visitors to Times Square every year,[11] in addition to a worldwide audience of one billion or more on various digital media platforms.[12]\n",
    "\n",
    "Times Square, specifically the intersection of Broadway and 42nd Street, is the eastern terminus of the Lincoln Highway, the first road across the United States for motorized vehicles.[13] Times Square is sometimes referred to as \"the Crossroads of the World\"[14] and \"the heart of the Great White Way\".[15][16][17]\n",
    "\"\"\"\n",
    "\n",
    "central_park = \"\"\" \n",
    "Central Park is an urban park between the Upper West Side and Upper East Side neighborhoods of Manhattan in New York City, and the first landscaped park in the United States. It is the sixth-largest park in the city, containing 843 acres (341 ha), and the most visited urban park in the United States, with an estimated 42 million visitors annually as of 2016. It is also one of the most filmed locations in the world.\n",
    "\n",
    "The creation of a large park in Manhattan was first proposed in the 1840s, and a 778-acre (315 ha) park approved in 1853. In 1858, landscape architects Frederick Law Olmsted and Calvert Vaux won a design competition for the park with their \"Greensward Plan\". Construction began in 1857; existing structures, including a majority-Black settlement named Seneca Village, were seized through eminent domain and razed. The park's first areas were opened to the public in late 1858. Additional land at the northern end of Central Park was purchased in 1859, and the park was completed in 1876. After a period of decline in the early 20th century, New York City parks commissioner Robert Moses started a program to clean up Central Park in the 1930s. The Central Park Conservancy, created in 1980 to combat further deterioration in the late 20th century, refurbished many parts of the park starting in the 1980s.\n",
    "\n",
    "The park's main attractions include the Ramble and Lake, Hallett Nature Sanctuary, the Jacqueline Kennedy Onassis Reservoir, and Sheep Meadow; amusement attractions such as Wollman Rink, Central Park Carousel, and the Central Park Zoo; formal spaces such as the Central Park Mall and Bethesda Terrace; and the Delacorte Theater. The biologically diverse ecosystem has several hundred species of flora and fauna. Recreational activities include carriage-horse and bicycle tours, bicycling, sports facilities, and concerts and events such as Shakespeare in the Park. Central Park is traversed by a system of roads and walkways and is served by public transportation.\n",
    "\n",
    "Its size and cultural position make it a model for the world's urban parks. Its influence earned Central Park the designations of National Historic Landmark in 1963 and of New York City scenic landmark in 1974. Central Park is owned by the New York City Department of Parks and Recreation but has been managed by the Central Park Conservancy since 1998, under a contract with the municipal government in a public–private partnership. The Conservancy, a non-profit organization, raises Central Park's annual operating budget and is responsible for all basic care of the park.\n",
    "\"\"\""
   ]
  },
  {
   "cell_type": "code",
   "execution_count": 68,
   "metadata": {},
   "outputs": [],
   "source": [
    "chunks_time_square = splitter.split_text(times_square)\n",
    "chunks_central_park = splitter.split_text(central_park)"
   ]
  },
  {
   "cell_type": "code",
   "execution_count": 69,
   "metadata": {},
   "outputs": [
    {
     "data": {
      "text/plain": [
       "[{'id': '41a55601-f103-4e99-b9ba-8a81adec5b4f',\n",
       "  'name': 'document_1',\n",
       "  'num_of_chunks': 3,\n",
       "  'metadata': {'date_created': '2025-03-30', 'source': 'local'}},\n",
       " {'id': 'c5d37a71-5c09-4f2b-8df0-11428018ba31',\n",
       "  'name': 'document_2',\n",
       "  'num_of_chunks': 0,\n",
       "  'metadata': {'date_created': '2025-03-30', 'source': 'local'}},\n",
       " {'id': 'e14bab95-cc45-4ee9-9923-2df9829ca2ab',\n",
       "  'name': 'document_3',\n",
       "  'num_of_chunks': 0,\n",
       "  'metadata': {'date_created': '2025-03-30', 'source': 'local'}}]"
      ]
     },
     "execution_count": 69,
     "metadata": {},
     "output_type": "execute_result"
    }
   ],
   "source": [
    "# Let's query the documents again just we are aware of their id's\n",
    "\n",
    "documents = requests.get(\n",
    "    f\"{DB_BASE_URI}/document\",\n",
    "    params={\"library_name\": library_name}\n",
    ").json()\n",
    "documents"
   ]
  },
  {
   "cell_type": "code",
   "execution_count": 70,
   "metadata": {},
   "outputs": [
    {
     "name": "stdout",
     "output_type": "stream",
     "text": [
      "{\n",
      "    \"library_name\": \"test_library\",\n",
      "    \"chunks\": [\n",
      "        {\n",
      "            \"text\": \"\\nTimes Square is a major commercial intersection, tourist destination, entertainment hub, and neighborhood in the Midtown Manhattan section of New York City. It is formed by the junction of Broadway, Seventh Avenue, and 42nd Street. Together with adjacent Duffy Square, Times Square is a bowtie-shaped plaza five blocks long between 42nd and 47th Streets.[2]\\n\\nTimes Square is brightly lit by numerous digital billboards and advertisements as well as businesses offering 24/7 service. One of the world's busiest pedestrian areas,[3] it is also the hub of the Broadway Theater District[4] and a major center of the world's entertainment indust\",\n",
      "            \"metadata\": {\n",
      "                \"date_created\": \"2025-03-30\",\n",
      "                \"doc_id\": \"c5d37a71-5c09-4f2b-8df0-11428018ba31\",\n",
      "                \"page_number\": 0,\n",
      "                \"summary\": \"\"\n",
      "            }\n",
      "        },\n",
      "        {\n",
      "            \"text\": \"ry.[5] Times Square is one of the world's most visited tourist attractions, drawing an estimated 50 million visitors annually.[6] Approximately 330,000 people pass through Times Square daily,[7] many of them tourists,[8] while over 460,000 pedestrians walk through Times Square on its busiest days.[2] The Times Square\\u201342nd Street and 42nd Street\\u2013Port Authority Bus Terminal stations have consistently ranked as the busiest in the New York City Subway system, transporting more than 200,000 passengers daily.[9]\\n\\nFormerly known as Longacre Square, Times Square was renamed in 1904 after The New York Times moved its headquarters to the then n\",\n",
      "            \"metadata\": {\n",
      "                \"date_created\": \"2025-03-30\",\n",
      "                \"doc_id\": \"c5d37a71-5c09-4f2b-8df0-11428018ba31\",\n",
      "                \"page_number\": 1,\n",
      "                \"summary\": \"\"\n",
      "            }\n",
      "        },\n",
      "        {\n",
      "            \"text\": \"ewly erected Times Building, now One Times Square.[10] It is the site of the annual New Year's Eve ball drop, which began on December 31, 1907, and continues to attract over a million visitors to Times Square every year,[11] in addition to a worldwide audience of one billion or more on various digital media platforms.[12]\\n\\nTimes Square, specifically the intersection of Broadway and 42nd Street, is the eastern terminus of the Lincoln Highway, the first road across the United States for motorized vehicles.[13] Times Square is sometimes referred to as \\\"the Crossroads of the World\\\"[14] and \\\"the heart of the Great White Way\\\".[15][16][17]\\n\",\n",
      "            \"metadata\": {\n",
      "                \"date_created\": \"2025-03-30\",\n",
      "                \"doc_id\": \"c5d37a71-5c09-4f2b-8df0-11428018ba31\",\n",
      "                \"page_number\": 2,\n",
      "                \"summary\": \"\"\n",
      "            }\n",
      "        },\n",
      "        {\n",
      "            \"text\": \" \\nCentral Park is an urban park between the Upper West Side and Upper East Side neighborhoods of Manhattan in New York City, and the first landscaped park in the United States. It is the sixth-largest park in the city, containing 843 acres (341 ha), and the most visited urban park in the United States, with an estimated 42 million visitors annually as of 2016. It is also one of the most filmed locations in the world.\\n\\nThe creation of a large park in Manhattan was first proposed in the 1840s, and a 778-acre (315 ha) park approved in 1853. In 1858, landscape architects Frederick Law Olmsted and Calvert Vaux won a design competition for the park with their \\\"Greensward Plan\\\". Construction began in 1857; existing structures, including a majority-Black settlement named Seneca Village, were seized through eminent domain and razed. The park's first area\",\n",
      "            \"metadata\": {\n",
      "                \"date_created\": \"2025-03-30\",\n",
      "                \"doc_id\": \"e14bab95-cc45-4ee9-9923-2df9829ca2ab\",\n",
      "                \"page_number\": 0,\n",
      "                \"summary\": \"\"\n",
      "            }\n",
      "        },\n",
      "        {\n",
      "            \"text\": \"s were opened to the public in late 1858. Additional land at the northern end of Central Park was purchased in 1859, and the park was completed in 1876. After a period of decline in the early 20th century, New York City parks commissioner Robert Moses started a program to clean up Central Park in the 1930s. The Central Park Conservancy, created in 1980 to combat further deterioration in the late 20th century, refurbished many parts of the park starting in the 1980s.\\n\\nThe park's main attractions include the Ramble and Lake, Hallett Nature Sanctuary, the Jacqueline Kennedy Onassis Reservoir, and Sheep Meadow; amusement attractions such as Wollman Rink, Central Park Carousel, and the Central Park Zoo; formal spaces such as the Central Park Mall and Bethesda Terrace; and the Delacorte Theater. The biologically diverse ecosystem has several hundred \",\n",
      "            \"metadata\": {\n",
      "                \"date_created\": \"2025-03-30\",\n",
      "                \"doc_id\": \"e14bab95-cc45-4ee9-9923-2df9829ca2ab\",\n",
      "                \"page_number\": 1,\n",
      "                \"summary\": \"\"\n",
      "            }\n",
      "        },\n",
      "        {\n",
      "            \"text\": \"species of flora and fauna. Recreational activities include carriage-horse and bicycle tours, bicycling, sports facilities, and concerts and events such as Shakespeare in the Park. Central Park is traversed by a system of roads and walkways and is served by public transportation.\\n\\nIts size and cultural position make it a model for the world's urban parks. Its influence earned Central Park the designations of National Historic Landmark in 1963 and of New York City scenic landmark in 1974. Central Park is owned by the New York City Department of Parks and Recreation but has been managed by the Central Park Conservancy since 1998, under a contract with the municipal government in a public\\u2013private partnership. The Conservancy, a non-profit organization, raises Central Park's annual operating budget and is responsible for all basic care of the park.\\n\",\n",
      "            \"metadata\": {\n",
      "                \"date_created\": \"2025-03-30\",\n",
      "                \"doc_id\": \"e14bab95-cc45-4ee9-9923-2df9829ca2ab\",\n",
      "                \"page_number\": 2,\n",
      "                \"summary\": \"\"\n",
      "            }\n",
      "        }\n",
      "    ]\n",
      "}\n"
     ]
    }
   ],
   "source": [
    "# We'll add the two chunk sets to the last two documents\n",
    "\n",
    "# We'll add these chunks to the following document with id: 0d825bb7-8823-4956-890e-3e90f853f6ad\n",
    "\n",
    "payload = {\n",
    "  \"library_name\": library_name,\n",
    "  \"chunks\": []\n",
    "}\n",
    "for i, chunk in enumerate(chunks_time_square):\n",
    "    chunk_payload = {\n",
    "        \"text\": chunk,\n",
    "        \"metadata\": {\n",
    "            \"date_created\": datetime.datetime.now().strftime(\"%Y-%m-%d\"),\n",
    "            \"doc_id\": documents[-2][\"id\"],\n",
    "            \"page_number\": i,\n",
    "            \"summary\": \"\",\n",
    "        }\n",
    "    }\n",
    "    payload[\"chunks\"].append(chunk_payload)\n",
    "    \n",
    "for i, chunk in enumerate(chunks_central_park):\n",
    "    chunk_payload = {\n",
    "        \"text\": chunk,\n",
    "        \"metadata\": {\n",
    "            \"date_created\": datetime.datetime.now().strftime(\"%Y-%m-%d\"),\n",
    "            \"doc_id\": documents[-1][\"id\"],\n",
    "            \"page_number\": i,\n",
    "            \"summary\": \"\",\n",
    "        }\n",
    "    }\n",
    "    payload[\"chunks\"].append(chunk_payload)\n",
    "\n",
    "print(json.dumps(payload, indent=4))"
   ]
  },
  {
   "cell_type": "code",
   "execution_count": 71,
   "metadata": {},
   "outputs": [
    {
     "name": "stdout",
     "output_type": "stream",
     "text": [
      "{'message': 'Chunk added to library'}\n"
     ]
    }
   ],
   "source": [
    "# Add chunks:\n",
    "\n",
    "CHUNK_RESOURCE = \"/chunk\"\n",
    "\n",
    "response = requests.post(\n",
    "    f\"{DB_BASE_URI}/{CHUNK_RESOURCE}\",\n",
    "    json=payload\n",
    ")\n",
    "print(response.json())"
   ]
  },
  {
   "cell_type": "code",
   "execution_count": 72,
   "metadata": {},
   "outputs": [
    {
     "data": {
      "text/plain": [
       "[{'id': '16e5a693-a51c-4597-844a-ebbd7ced7c9c',\n",
       "  'text': \"\\nNew York, often called New York City[b] or NYC, is the most populous city in the United States, located at the southern tip of New York State on one of the world's largest natural harbors. The city comprises five boroughs, each coextensive with a respective county. The city is the geographical and demographic center of both the Northeast megalopolis and the New York metropolitan area, the largest metropolitan area in the United States by both population and urban area. New York is a global center of finance[12] and commerce, culture, technology,[13] entertainment and media, academics and scientific output,[14] the arts and fashion, and, as home to the headquarters of the United Nations, international diplomacy.[15][16][17][18][19]\\n\\nWith an estimated population\",\n",
       "  'embedding': [0.023666382,\n",
       "   0.026565552,\n",
       "   0.022583008,\n",
       "   -0.004108429,\n",
       "   -0.013206482],\n",
       "  'metadata': {'date_created': '2025-03-30',\n",
       "   'doc_id': '41a55601-f103-4e99-b9ba-8a81adec5b4f',\n",
       "   'page_number': 0,\n",
       "   'summary': ''}},\n",
       " {'id': '6783a10a-109a-453f-a392-a794e5c5442a',\n",
       "  'text': \" in 2024 of 8,478,072[5][6] distributed over 300.46 square miles (778.2 km2),[4] the city is the most densely populated major city in the United States. New York City has more than double the population of Los Angeles, the nation's second-most populous city.[20] With more than 20.1 million people in its metropolitan statistical area[21] and 23.5 million in its combined statistical area as of 2020, New York City is one of the world's most populous megacities.[22] The city and its metropolitan area are the premier gateway for legal immigration to the United States. As many as 800 languages are spoken in New York City,[23] making it the most linguistically diverse city in the world. In 2021, the city was home to nearly 3.1 million residents born outside the United\",\n",
       "  'embedding': [0.01612854,\n",
       "   0.009674072,\n",
       "   0.0009493828,\n",
       "   -0.027496338,\n",
       "   -0.010971069],\n",
       "  'metadata': {'date_created': '2025-03-30',\n",
       "   'doc_id': '41a55601-f103-4e99-b9ba-8a81adec5b4f',\n",
       "   'page_number': 1,\n",
       "   'summary': ''}},\n",
       " {'id': 'ed527fb0-72ed-4541-820b-661f352994cf',\n",
       "  'text': ' States,[20] the largest foreign-born population of any city in the world.[24]\\n\\nNew York City traces its origins to Fort Amsterdam and a trading post founded on Manhattan Island by Dutch colonists around 1624. The settlement was named New Amsterdam in 1626 and was chartered as a city in 1653. The city came under English control in 1664 and was temporarily renamed New York after King Charles II granted the lands to his brother, the Duke of York,[25] before being permanently renamed New York in November 1674. Following independence from Great Britain, the city was the national capital of the United States from 1785 until 1790.[26] The modern city was formed by the 1898 consolidation of its five boroughs: Manhattan, Brooklyn, Queens, the Bronx, and Staten Island.\\n',\n",
       "  'embedding': [0.004146576,\n",
       "   0.0038528442,\n",
       "   -0.00064849854,\n",
       "   -0.023727417,\n",
       "   -0.012252808],\n",
       "  'metadata': {'date_created': '2025-03-30',\n",
       "   'doc_id': '41a55601-f103-4e99-b9ba-8a81adec5b4f',\n",
       "   'page_number': 2,\n",
       "   'summary': ''}},\n",
       " {'id': 'bd702269-7df2-42bc-a3ac-893a23a98918',\n",
       "  'text': \"\\nTimes Square is a major commercial intersection, tourist destination, entertainment hub, and neighborhood in the Midtown Manhattan section of New York City. It is formed by the junction of Broadway, Seventh Avenue, and 42nd Street. Together with adjacent Duffy Square, Times Square is a bowtie-shaped plaza five blocks long between 42nd and 47th Streets.[2]\\n\\nTimes Square is brightly lit by numerous digital billboards and advertisements as well as businesses offering 24/7 service. One of the world's busiest pedestrian areas,[3] it is also the hub of the Broadway Theater District[4] and a major center of the world's entertainment indust\",\n",
       "  'embedding': [0.052581787,\n",
       "   0.02720642,\n",
       "   -0.0021800995,\n",
       "   -0.046173096,\n",
       "   0.03475952],\n",
       "  'metadata': {'date_created': '2025-03-30',\n",
       "   'doc_id': 'c5d37a71-5c09-4f2b-8df0-11428018ba31',\n",
       "   'page_number': 0,\n",
       "   'summary': ''}},\n",
       " {'id': 'b4f3947f-2d74-445d-a38f-2d55ca56a50c',\n",
       "  'text': \"ry.[5] Times Square is one of the world's most visited tourist attractions, drawing an estimated 50 million visitors annually.[6] Approximately 330,000 people pass through Times Square daily,[7] many of them tourists,[8] while over 460,000 pedestrians walk through Times Square on its busiest days.[2] The Times Square–42nd Street and 42nd Street–Port Authority Bus Terminal stations have consistently ranked as the busiest in the New York City Subway system, transporting more than 200,000 passengers daily.[9]\\n\\nFormerly known as Longacre Square, Times Square was renamed in 1904 after The New York Times moved its headquarters to the then n\",\n",
       "  'embedding': [0.055633545,\n",
       "   0.032073975,\n",
       "   0.0017318726,\n",
       "   0.013175964,\n",
       "   0.037322998],\n",
       "  'metadata': {'date_created': '2025-03-30',\n",
       "   'doc_id': 'c5d37a71-5c09-4f2b-8df0-11428018ba31',\n",
       "   'page_number': 1,\n",
       "   'summary': ''}},\n",
       " {'id': 'e76c654d-1ac5-4dbd-8f2b-f2c2504b73c6',\n",
       "  'text': 'ewly erected Times Building, now One Times Square.[10] It is the site of the annual New Year\\'s Eve ball drop, which began on December 31, 1907, and continues to attract over a million visitors to Times Square every year,[11] in addition to a worldwide audience of one billion or more on various digital media platforms.[12]\\n\\nTimes Square, specifically the intersection of Broadway and 42nd Street, is the eastern terminus of the Lincoln Highway, the first road across the United States for motorized vehicles.[13] Times Square is sometimes referred to as \"the Crossroads of the World\"[14] and \"the heart of the Great White Way\".[15][16][17]\\n',\n",
       "  'embedding': [0.0138168335,\n",
       "   -0.004512787,\n",
       "   0.006214142,\n",
       "   -0.032470703,\n",
       "   0.00081539154],\n",
       "  'metadata': {'date_created': '2025-03-30',\n",
       "   'doc_id': 'c5d37a71-5c09-4f2b-8df0-11428018ba31',\n",
       "   'page_number': 2,\n",
       "   'summary': ''}},\n",
       " {'id': '54419444-5242-4b1b-9047-d3c6054a92b4',\n",
       "  'text': ' \\nCentral Park is an urban park between the Upper West Side and Upper East Side neighborhoods of Manhattan in New York City, and the first landscaped park in the United States. It is the sixth-largest park in the city, containing 843 acres (341 ha), and the most visited urban park in the United States, with an estimated 42 million visitors annually as of 2016. It is also one of the most filmed locations in the world.\\n\\nThe creation of a large park in Manhattan was first proposed in the 1840s, and a 778-acre (315 ha) park approved in 1853. In 1858, landscape architects Frederick Law Olmsted and Calvert Vaux won a design competition for the park with their \"Greensward Plan\". Construction began in 1857; existing structures, including a majority-Black settlement named Seneca Village, were seized through eminent domain and razed. The park\\'s first area',\n",
       "  'embedding': [-0.007671356,\n",
       "   0.0069503784,\n",
       "   0.005466461,\n",
       "   0.004470825,\n",
       "   -0.025512695],\n",
       "  'metadata': {'date_created': '2025-03-30',\n",
       "   'doc_id': 'e14bab95-cc45-4ee9-9923-2df9829ca2ab',\n",
       "   'page_number': 0,\n",
       "   'summary': ''}},\n",
       " {'id': '34523ca5-9169-475c-beea-63e2e88dbdd5',\n",
       "  'text': \"s were opened to the public in late 1858. Additional land at the northern end of Central Park was purchased in 1859, and the park was completed in 1876. After a period of decline in the early 20th century, New York City parks commissioner Robert Moses started a program to clean up Central Park in the 1930s. The Central Park Conservancy, created in 1980 to combat further deterioration in the late 20th century, refurbished many parts of the park starting in the 1980s.\\n\\nThe park's main attractions include the Ramble and Lake, Hallett Nature Sanctuary, the Jacqueline Kennedy Onassis Reservoir, and Sheep Meadow; amusement attractions such as Wollman Rink, Central Park Carousel, and the Central Park Zoo; formal spaces such as the Central Park Mall and Bethesda Terrace; and the Delacorte Theater. The biologically diverse ecosystem has several hundred \",\n",
       "  'embedding': [0.031951904,\n",
       "   0.002937317,\n",
       "   0.026535034,\n",
       "   -0.044769287,\n",
       "   -0.015213013],\n",
       "  'metadata': {'date_created': '2025-03-30',\n",
       "   'doc_id': 'e14bab95-cc45-4ee9-9923-2df9829ca2ab',\n",
       "   'page_number': 1,\n",
       "   'summary': ''}},\n",
       " {'id': '85d3fcba-ce87-4e34-b230-f4a037f50e1b',\n",
       "  'text': \"species of flora and fauna. Recreational activities include carriage-horse and bicycle tours, bicycling, sports facilities, and concerts and events such as Shakespeare in the Park. Central Park is traversed by a system of roads and walkways and is served by public transportation.\\n\\nIts size and cultural position make it a model for the world's urban parks. Its influence earned Central Park the designations of National Historic Landmark in 1963 and of New York City scenic landmark in 1974. Central Park is owned by the New York City Department of Parks and Recreation but has been managed by the Central Park Conservancy since 1998, under a contract with the municipal government in a public–private partnership. The Conservancy, a non-profit organization, raises Central Park's annual operating budget and is responsible for all basic care of the park.\\n\",\n",
       "  'embedding': [0.02243042,\n",
       "   0.01576233,\n",
       "   0.0041503906,\n",
       "   -0.044647217,\n",
       "   -0.0032520294],\n",
       "  'metadata': {'date_created': '2025-03-30',\n",
       "   'doc_id': 'e14bab95-cc45-4ee9-9923-2df9829ca2ab',\n",
       "   'page_number': 2,\n",
       "   'summary': ''}}]"
      ]
     },
     "execution_count": 72,
     "metadata": {},
     "output_type": "execute_result"
    }
   ],
   "source": [
    "# Lets check on all the chunks:\n",
    "\n",
    "response = requests.get(\n",
    "    f\"{DB_BASE_URI}/{CHUNK_RESOURCE}\",\n",
    "    params={\"library_name\": library_name}\n",
    ")\n",
    "response.json()"
   ]
  },
  {
   "cell_type": "markdown",
   "metadata": {},
   "source": [
    "With all the chunks in place, let's index them so we can get started querying"
   ]
  },
  {
   "cell_type": "code",
   "execution_count": 73,
   "metadata": {},
   "outputs": [
    {
     "data": {
      "text/plain": [
       "{'message': 'Index built successfully'}"
      ]
     },
     "execution_count": 73,
     "metadata": {},
     "output_type": "execute_result"
    }
   ],
   "source": [
    "response = requests.patch(\n",
    "    f\"{DB_BASE_URI}/{LIBRARY_RESOURCE}/query\",\n",
    "    params={\"library_name\": library_name},\n",
    ")\n",
    "response.json()"
   ]
  },
  {
   "cell_type": "markdown",
   "metadata": {},
   "source": [
    "And let's start querying"
   ]
  },
  {
   "cell_type": "code",
   "execution_count": 74,
   "metadata": {},
   "outputs": [],
   "source": [
    "payload = {\n",
    "  \"library_name\": library_name,\n",
    "  \"query\": \"What is NYC famous for?\",\n",
    "  \"k\": 2 # Get the 2 closest chunks\n",
    "}"
   ]
  },
  {
   "cell_type": "code",
   "execution_count": 75,
   "metadata": {},
   "outputs": [
    {
     "data": {
      "text/plain": [
       "[{'id': '16e5a693-a51c-4597-844a-ebbd7ced7c9c',\n",
       "  'text': \"\\nNew York, often called New York City[b] or NYC, is the most populous city in the United States, located at the southern tip of New York State on one of the world's largest natural harbors. The city comprises five boroughs, each coextensive with a respective county. The city is the geographical and demographic center of both the Northeast megalopolis and the New York metropolitan area, the largest metropolitan area in the United States by both population and urban area. New York is a global center of finance[12] and commerce, culture, technology,[13] entertainment and media, academics and scientific output,[14] the arts and fashion, and, as home to the headquarters of the United Nations, international diplomacy.[15][16][17][18][19]\\n\\nWith an estimated population\",\n",
       "  'embedding': [0.023666382,\n",
       "   0.026565552,\n",
       "   0.022583008,\n",
       "   -0.004108429,\n",
       "   -0.013206482],\n",
       "  'metadata': {'date_created': '2025-03-30',\n",
       "   'doc_id': '41a55601-f103-4e99-b9ba-8a81adec5b4f',\n",
       "   'page_number': 0,\n",
       "   'summary': ''}},\n",
       " {'id': 'ed527fb0-72ed-4541-820b-661f352994cf',\n",
       "  'text': ' States,[20] the largest foreign-born population of any city in the world.[24]\\n\\nNew York City traces its origins to Fort Amsterdam and a trading post founded on Manhattan Island by Dutch colonists around 1624. The settlement was named New Amsterdam in 1626 and was chartered as a city in 1653. The city came under English control in 1664 and was temporarily renamed New York after King Charles II granted the lands to his brother, the Duke of York,[25] before being permanently renamed New York in November 1674. Following independence from Great Britain, the city was the national capital of the United States from 1785 until 1790.[26] The modern city was formed by the 1898 consolidation of its five boroughs: Manhattan, Brooklyn, Queens, the Bronx, and Staten Island.\\n',\n",
       "  'embedding': [0.004146576,\n",
       "   0.0038528442,\n",
       "   -0.00064849854,\n",
       "   -0.023727417,\n",
       "   -0.012252808],\n",
       "  'metadata': {'date_created': '2025-03-30',\n",
       "   'doc_id': '41a55601-f103-4e99-b9ba-8a81adec5b4f',\n",
       "   'page_number': 2,\n",
       "   'summary': ''}}]"
      ]
     },
     "execution_count": 75,
     "metadata": {},
     "output_type": "execute_result"
    }
   ],
   "source": [
    "response = requests.post(\n",
    "    f\"{DB_BASE_URI}/{LIBRARY_RESOURCE}/query\",\n",
    "    params={\"library_name\": library_name},\n",
    "    json=payload\n",
    ")\n",
    "response.json()"
   ]
  },
  {
   "cell_type": "code",
   "execution_count": 52,
   "metadata": {},
   "outputs": [
    {
     "name": "stdout",
     "output_type": "stream",
     "text": [
      "{'message': 'Library removed successfully'}\n"
     ]
    }
   ],
   "source": [
    "# Delete the library\n",
    "\n",
    "response = requests.delete(\n",
    "    f\"{DB_BASE_URI}/{LIBRARY_RESOURCE}/{library_name}\",\n",
    ")\n",
    "print(response.json())"
   ]
  },
  {
   "cell_type": "code",
   "execution_count": null,
   "metadata": {},
   "outputs": [],
   "source": []
  }
 ],
 "metadata": {
  "kernelspec": {
   "display_name": "venv",
   "language": "python",
   "name": "python3"
  },
  "language_info": {
   "codemirror_mode": {
    "name": "ipython",
    "version": 3
   },
   "file_extension": ".py",
   "mimetype": "text/x-python",
   "name": "python",
   "nbconvert_exporter": "python",
   "pygments_lexer": "ipython3",
   "version": "3.11.4"
  }
 },
 "nbformat": 4,
 "nbformat_minor": 2
}
